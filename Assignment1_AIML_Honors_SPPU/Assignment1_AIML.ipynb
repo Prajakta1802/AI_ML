{
  "nbformat": 4,
  "nbformat_minor": 0,
  "metadata": {
    "colab": {
      "name": "Assignment1:33359",
      "provenance": [],
      "collapsed_sections": []
    },
    "kernelspec": {
      "name": "python3",
      "display_name": "Python 3"
    },
    "language_info": {
      "name": "python"
    }
  },
  "cells": [
    {
      "cell_type": "markdown",
      "metadata": {
        "id": "htbLpAngZldV"
      },
      "source": [
        "### **1.**\t**Calculate mean, variance, standard deviation, and standard error of Close Price** "
      ]
    },
    {
      "cell_type": "code",
      "metadata": {
        "colab": {
          "base_uri": "https://localhost:8080/",
          "height": 388
        },
        "id": "xsFTCo09bb0i",
        "outputId": "81f7d94d-c574-4376-f807-7cf847a4ea30"
      },
      "source": [
        "import pandas as pd\n",
        "\n",
        "infy_data = pd.read_csv('/content/infy data.csv')\n",
        "infy_data"
      ],
      "execution_count": 3,
      "outputs": [
        {
          "output_type": "execute_result",
          "data": {
            "text/html": [
              "<div>\n",
              "<style scoped>\n",
              "    .dataframe tbody tr th:only-of-type {\n",
              "        vertical-align: middle;\n",
              "    }\n",
              "\n",
              "    .dataframe tbody tr th {\n",
              "        vertical-align: top;\n",
              "    }\n",
              "\n",
              "    .dataframe thead th {\n",
              "        text-align: right;\n",
              "    }\n",
              "</style>\n",
              "<table border=\"1\" class=\"dataframe\">\n",
              "  <thead>\n",
              "    <tr style=\"text-align: right;\">\n",
              "      <th></th>\n",
              "      <th>Symbol</th>\n",
              "      <th>Date</th>\n",
              "      <th>Prev Close</th>\n",
              "      <th>Open Price</th>\n",
              "      <th>High Price</th>\n",
              "      <th>Low Price</th>\n",
              "      <th>Last Price</th>\n",
              "      <th>Close Price</th>\n",
              "      <th>Average Price</th>\n",
              "      <th>Total Traded Quantity</th>\n",
              "      <th>Turnover</th>\n",
              "      <th>No. of Trades</th>\n",
              "      <th>Deliverable Qty</th>\n",
              "      <th>% Dly Qt to Traded Qty</th>\n",
              "    </tr>\n",
              "  </thead>\n",
              "  <tbody>\n",
              "    <tr>\n",
              "      <th>0</th>\n",
              "      <td>INFY</td>\n",
              "      <td>29-Jul-21</td>\n",
              "      <td>1605.60</td>\n",
              "      <td>1600.10</td>\n",
              "      <td>1620.00</td>\n",
              "      <td>1600.10</td>\n",
              "      <td>1615.50</td>\n",
              "      <td>1617.00</td>\n",
              "      <td>1614.80</td>\n",
              "      <td>4660873</td>\n",
              "      <td>7526375522</td>\n",
              "      <td>144550</td>\n",
              "      <td>2926321</td>\n",
              "      <td>62.78</td>\n",
              "    </tr>\n",
              "    <tr>\n",
              "      <th>1</th>\n",
              "      <td>INFY</td>\n",
              "      <td>30-Jul-21</td>\n",
              "      <td>1617.00</td>\n",
              "      <td>1610.00</td>\n",
              "      <td>1623.40</td>\n",
              "      <td>1606.15</td>\n",
              "      <td>1611.75</td>\n",
              "      <td>1610.50</td>\n",
              "      <td>1613.35</td>\n",
              "      <td>6234257</td>\n",
              "      <td>10058016360</td>\n",
              "      <td>136907</td>\n",
              "      <td>4485149</td>\n",
              "      <td>71.94</td>\n",
              "    </tr>\n",
              "    <tr>\n",
              "      <th>2</th>\n",
              "      <td>INFY</td>\n",
              "      <td>02-Aug-21</td>\n",
              "      <td>1610.50</td>\n",
              "      <td>1627.45</td>\n",
              "      <td>1634.75</td>\n",
              "      <td>1619.20</td>\n",
              "      <td>1632.00</td>\n",
              "      <td>1631.55</td>\n",
              "      <td>1627.56</td>\n",
              "      <td>5553389</td>\n",
              "      <td>9038450771</td>\n",
              "      <td>123236</td>\n",
              "      <td>4318503</td>\n",
              "      <td>77.76</td>\n",
              "    </tr>\n",
              "    <tr>\n",
              "      <th>3</th>\n",
              "      <td>INFY</td>\n",
              "      <td>03-Aug-21</td>\n",
              "      <td>1631.55</td>\n",
              "      <td>1647.00</td>\n",
              "      <td>1658.65</td>\n",
              "      <td>1635.60</td>\n",
              "      <td>1657.00</td>\n",
              "      <td>1655.20</td>\n",
              "      <td>1645.86</td>\n",
              "      <td>5513668</td>\n",
              "      <td>9074703957</td>\n",
              "      <td>140415</td>\n",
              "      <td>3887460</td>\n",
              "      <td>70.51</td>\n",
              "    </tr>\n",
              "    <tr>\n",
              "      <th>4</th>\n",
              "      <td>INFY</td>\n",
              "      <td>04-Aug-21</td>\n",
              "      <td>1655.20</td>\n",
              "      <td>1669.10</td>\n",
              "      <td>1679.90</td>\n",
              "      <td>1639.05</td>\n",
              "      <td>1648.55</td>\n",
              "      <td>1649.25</td>\n",
              "      <td>1653.26</td>\n",
              "      <td>6740391</td>\n",
              "      <td>11143605331</td>\n",
              "      <td>152430</td>\n",
              "      <td>4752601</td>\n",
              "      <td>70.51</td>\n",
              "    </tr>\n",
              "    <tr>\n",
              "      <th>5</th>\n",
              "      <td>INFY</td>\n",
              "      <td>05-Aug-21</td>\n",
              "      <td>1649.25</td>\n",
              "      <td>1649.50</td>\n",
              "      <td>1666.00</td>\n",
              "      <td>1647.05</td>\n",
              "      <td>1652.00</td>\n",
              "      <td>1653.55</td>\n",
              "      <td>1655.81</td>\n",
              "      <td>5420536</td>\n",
              "      <td>8975400927</td>\n",
              "      <td>124049</td>\n",
              "      <td>3761486</td>\n",
              "      <td>69.39</td>\n",
              "    </tr>\n",
              "    <tr>\n",
              "      <th>6</th>\n",
              "      <td>INFY</td>\n",
              "      <td>06-Aug-21</td>\n",
              "      <td>1653.55</td>\n",
              "      <td>1657.00</td>\n",
              "      <td>1660.65</td>\n",
              "      <td>1644.00</td>\n",
              "      <td>1652.10</td>\n",
              "      <td>1650.20</td>\n",
              "      <td>1652.90</td>\n",
              "      <td>3754855</td>\n",
              "      <td>6206401477</td>\n",
              "      <td>100454</td>\n",
              "      <td>2558438</td>\n",
              "      <td>68.14</td>\n",
              "    </tr>\n",
              "    <tr>\n",
              "      <th>7</th>\n",
              "      <td>INFY</td>\n",
              "      <td>09-Aug-21</td>\n",
              "      <td>1650.20</td>\n",
              "      <td>1661.00</td>\n",
              "      <td>1667.45</td>\n",
              "      <td>1646.40</td>\n",
              "      <td>1664.40</td>\n",
              "      <td>1663.30</td>\n",
              "      <td>1656.74</td>\n",
              "      <td>5018477</td>\n",
              "      <td>8314309678</td>\n",
              "      <td>113096</td>\n",
              "      <td>3673439</td>\n",
              "      <td>73.20</td>\n",
              "    </tr>\n",
              "    <tr>\n",
              "      <th>8</th>\n",
              "      <td>INFY</td>\n",
              "      <td>10-Aug-21</td>\n",
              "      <td>1663.30</td>\n",
              "      <td>1668.00</td>\n",
              "      <td>1680.00</td>\n",
              "      <td>1661.05</td>\n",
              "      <td>1674.15</td>\n",
              "      <td>1677.25</td>\n",
              "      <td>1674.29</td>\n",
              "      <td>6846517</td>\n",
              "      <td>11463058438</td>\n",
              "      <td>135096</td>\n",
              "      <td>5175394</td>\n",
              "      <td>75.59</td>\n",
              "    </tr>\n",
              "    <tr>\n",
              "      <th>9</th>\n",
              "      <td>INFY</td>\n",
              "      <td>11-Aug-21</td>\n",
              "      <td>1677.25</td>\n",
              "      <td>1674.80</td>\n",
              "      <td>1684.00</td>\n",
              "      <td>1668.00</td>\n",
              "      <td>1675.10</td>\n",
              "      <td>1677.55</td>\n",
              "      <td>1676.00</td>\n",
              "      <td>4899639</td>\n",
              "      <td>8211808502</td>\n",
              "      <td>149326</td>\n",
              "      <td>3586596</td>\n",
              "      <td>73.20</td>\n",
              "    </tr>\n",
              "    <tr>\n",
              "      <th>10</th>\n",
              "      <td>INFY</td>\n",
              "      <td>12-Aug-21</td>\n",
              "      <td>1677.55</td>\n",
              "      <td>1679.15</td>\n",
              "      <td>1696.50</td>\n",
              "      <td>1674.00</td>\n",
              "      <td>1684.95</td>\n",
              "      <td>1689.60</td>\n",
              "      <td>1687.65</td>\n",
              "      <td>5659579</td>\n",
              "      <td>9551399368</td>\n",
              "      <td>152218</td>\n",
              "      <td>4217591</td>\n",
              "      <td>74.52</td>\n",
              "    </tr>\n",
              "  </tbody>\n",
              "</table>\n",
              "</div>"
            ],
            "text/plain": [
              "   Symbol       Date  ...  Deliverable Qty  % Dly Qt to Traded Qty\n",
              "0    INFY  29-Jul-21  ...          2926321                   62.78\n",
              "1    INFY  30-Jul-21  ...          4485149                   71.94\n",
              "2    INFY  02-Aug-21  ...          4318503                   77.76\n",
              "3    INFY  03-Aug-21  ...          3887460                   70.51\n",
              "4    INFY  04-Aug-21  ...          4752601                   70.51\n",
              "5    INFY  05-Aug-21  ...          3761486                   69.39\n",
              "6    INFY  06-Aug-21  ...          2558438                   68.14\n",
              "7    INFY  09-Aug-21  ...          3673439                   73.20\n",
              "8    INFY  10-Aug-21  ...          5175394                   75.59\n",
              "9    INFY  11-Aug-21  ...          3586596                   73.20\n",
              "10   INFY  12-Aug-21  ...          4217591                   74.52\n",
              "\n",
              "[11 rows x 14 columns]"
            ]
          },
          "metadata": {},
          "execution_count": 3
        }
      ]
    },
    {
      "cell_type": "code",
      "metadata": {
        "colab": {
          "base_uri": "https://localhost:8080/",
          "height": 313
        },
        "id": "2dcNALIOjVOT",
        "outputId": "e4b7adfd-72cf-44f2-f1a1-a287c833b534"
      },
      "source": [
        "infy_data.describe()"
      ],
      "execution_count": null,
      "outputs": [
        {
          "output_type": "execute_result",
          "data": {
            "text/html": [
              "<div>\n",
              "<style scoped>\n",
              "    .dataframe tbody tr th:only-of-type {\n",
              "        vertical-align: middle;\n",
              "    }\n",
              "\n",
              "    .dataframe tbody tr th {\n",
              "        vertical-align: top;\n",
              "    }\n",
              "\n",
              "    .dataframe thead th {\n",
              "        text-align: right;\n",
              "    }\n",
              "</style>\n",
              "<table border=\"1\" class=\"dataframe\">\n",
              "  <thead>\n",
              "    <tr style=\"text-align: right;\">\n",
              "      <th></th>\n",
              "      <th>Prev Close</th>\n",
              "      <th>Open Price</th>\n",
              "      <th>High Price</th>\n",
              "      <th>Low Price</th>\n",
              "      <th>Last Price</th>\n",
              "      <th>Close Price</th>\n",
              "      <th>Average Price</th>\n",
              "      <th>Total Traded Quantity</th>\n",
              "      <th>Turnover</th>\n",
              "      <th>No. of Trades</th>\n",
              "      <th>Deliverable Qty</th>\n",
              "      <th>% Dly Qt to Traded Qty</th>\n",
              "    </tr>\n",
              "  </thead>\n",
              "  <tbody>\n",
              "    <tr>\n",
              "      <th>count</th>\n",
              "      <td>11.000000</td>\n",
              "      <td>11.000000</td>\n",
              "      <td>11.000000</td>\n",
              "      <td>11.000000</td>\n",
              "      <td>11.000000</td>\n",
              "      <td>11.000000</td>\n",
              "      <td>11.000000</td>\n",
              "      <td>1.100000e+01</td>\n",
              "      <td>1.100000e+01</td>\n",
              "      <td>11.000000</td>\n",
              "      <td>1.100000e+01</td>\n",
              "      <td>11.000000</td>\n",
              "    </tr>\n",
              "    <tr>\n",
              "      <th>mean</th>\n",
              "      <td>1644.631818</td>\n",
              "      <td>1649.372727</td>\n",
              "      <td>1661.027273</td>\n",
              "      <td>1640.054545</td>\n",
              "      <td>1651.590909</td>\n",
              "      <td>1652.268182</td>\n",
              "      <td>1650.747273</td>\n",
              "      <td>5.482016e+06</td>\n",
              "      <td>9.051230e+09</td>\n",
              "      <td>133797.909091</td>\n",
              "      <td>3.940271e+06</td>\n",
              "      <td>71.594545</td>\n",
              "    </tr>\n",
              "    <tr>\n",
              "      <th>std</th>\n",
              "      <td>25.224435</td>\n",
              "      <td>26.319207</td>\n",
              "      <td>25.226022</td>\n",
              "      <td>23.833731</td>\n",
              "      <td>23.771998</td>\n",
              "      <td>24.939770</td>\n",
              "      <td>24.245744</td>\n",
              "      <td>9.090673e+05</td>\n",
              "      <td>1.520892e+09</td>\n",
              "      <td>16868.021434</td>\n",
              "      <td>7.662155e+05</td>\n",
              "      <td>4.057729</td>\n",
              "    </tr>\n",
              "    <tr>\n",
              "      <th>min</th>\n",
              "      <td>1605.600000</td>\n",
              "      <td>1600.100000</td>\n",
              "      <td>1620.000000</td>\n",
              "      <td>1600.100000</td>\n",
              "      <td>1611.750000</td>\n",
              "      <td>1610.500000</td>\n",
              "      <td>1613.350000</td>\n",
              "      <td>3.754855e+06</td>\n",
              "      <td>6.206401e+09</td>\n",
              "      <td>100454.000000</td>\n",
              "      <td>2.558438e+06</td>\n",
              "      <td>62.780000</td>\n",
              "    </tr>\n",
              "    <tr>\n",
              "      <th>25%</th>\n",
              "      <td>1624.275000</td>\n",
              "      <td>1637.225000</td>\n",
              "      <td>1646.700000</td>\n",
              "      <td>1627.400000</td>\n",
              "      <td>1640.275000</td>\n",
              "      <td>1640.400000</td>\n",
              "      <td>1636.710000</td>\n",
              "      <td>4.959058e+06</td>\n",
              "      <td>8.263059e+09</td>\n",
              "      <td>123642.500000</td>\n",
              "      <td>3.630018e+06</td>\n",
              "      <td>69.950000</td>\n",
              "    </tr>\n",
              "    <tr>\n",
              "      <th>50%</th>\n",
              "      <td>1650.200000</td>\n",
              "      <td>1657.000000</td>\n",
              "      <td>1666.000000</td>\n",
              "      <td>1644.000000</td>\n",
              "      <td>1652.100000</td>\n",
              "      <td>1653.550000</td>\n",
              "      <td>1653.260000</td>\n",
              "      <td>5.513668e+06</td>\n",
              "      <td>9.038451e+09</td>\n",
              "      <td>136907.000000</td>\n",
              "      <td>3.887460e+06</td>\n",
              "      <td>71.940000</td>\n",
              "    </tr>\n",
              "    <tr>\n",
              "      <th>75%</th>\n",
              "      <td>1659.250000</td>\n",
              "      <td>1668.550000</td>\n",
              "      <td>1679.950000</td>\n",
              "      <td>1654.050000</td>\n",
              "      <td>1669.275000</td>\n",
              "      <td>1670.275000</td>\n",
              "      <td>1665.515000</td>\n",
              "      <td>5.946918e+06</td>\n",
              "      <td>9.804708e+09</td>\n",
              "      <td>146938.000000</td>\n",
              "      <td>4.401826e+06</td>\n",
              "      <td>73.860000</td>\n",
              "    </tr>\n",
              "    <tr>\n",
              "      <th>max</th>\n",
              "      <td>1677.550000</td>\n",
              "      <td>1679.150000</td>\n",
              "      <td>1696.500000</td>\n",
              "      <td>1674.000000</td>\n",
              "      <td>1684.950000</td>\n",
              "      <td>1689.600000</td>\n",
              "      <td>1687.650000</td>\n",
              "      <td>6.846517e+06</td>\n",
              "      <td>1.146306e+10</td>\n",
              "      <td>152430.000000</td>\n",
              "      <td>5.175394e+06</td>\n",
              "      <td>77.760000</td>\n",
              "    </tr>\n",
              "  </tbody>\n",
              "</table>\n",
              "</div>"
            ],
            "text/plain": [
              "        Prev Close   Open Price  ...  Deliverable Qty  % Dly Qt to Traded Qty\n",
              "count    11.000000    11.000000  ...     1.100000e+01               11.000000\n",
              "mean   1644.631818  1649.372727  ...     3.940271e+06               71.594545\n",
              "std      25.224435    26.319207  ...     7.662155e+05                4.057729\n",
              "min    1605.600000  1600.100000  ...     2.558438e+06               62.780000\n",
              "25%    1624.275000  1637.225000  ...     3.630018e+06               69.950000\n",
              "50%    1650.200000  1657.000000  ...     3.887460e+06               71.940000\n",
              "75%    1659.250000  1668.550000  ...     4.401826e+06               73.860000\n",
              "max    1677.550000  1679.150000  ...     5.175394e+06               77.760000\n",
              "\n",
              "[8 rows x 12 columns]"
            ]
          },
          "metadata": {},
          "execution_count": 20
        }
      ]
    },
    {
      "cell_type": "markdown",
      "metadata": {
        "id": "W3FVXnnMdcMA"
      },
      "source": [
        "Mean"
      ]
    },
    {
      "cell_type": "code",
      "metadata": {
        "colab": {
          "base_uri": "https://localhost:8080/"
        },
        "id": "vFNhSe4UdgnT",
        "outputId": "951df7d4-58e8-467f-d82a-6f41a81cac54"
      },
      "source": [
        "#calculating mean without using built-in functions\n",
        "no_of_items = len(infy_data['Close Price'])\n",
        "mean = sum(infy_data['Close Price'])/no_of_items\n",
        "\n",
        "print(\"Mean wihtout using built-in function is : \",mean)\n",
        "\n",
        "#Using mean() built-in funciton\n",
        "print(\"\\nMean with built-in function is : \",infy_data['Close Price'].mean())"
      ],
      "execution_count": null,
      "outputs": [
        {
          "output_type": "stream",
          "text": [
            "Mean wihtout using built-in function is :  1652.2681818181816\n",
            "\n",
            "Mean with built-in function is :  1652.2681818181816\n"
          ],
          "name": "stdout"
        }
      ]
    },
    {
      "cell_type": "markdown",
      "metadata": {
        "id": "CdMSxWvpeNN_"
      },
      "source": [
        "Variance"
      ]
    },
    {
      "cell_type": "code",
      "metadata": {
        "colab": {
          "base_uri": "https://localhost:8080/"
        },
        "id": "bJJb0EWreQGc",
        "outputId": "5e354bb4-6215-47aa-8bf7-1c629590e0ca"
      },
      "source": [
        "#calculating deviations first then retriving variance through it (Without using built-in functions)\n",
        "\n",
        "deviations = []\n",
        "for i in infy_data['Close Price']:\n",
        "  deviations.append((i - mean) ** 2 )\n",
        "\n",
        "variance = sum(deviations)/(no_of_items-1)\n",
        "print(\"Variance without using built-in function is : \",variance)\n",
        "\n",
        "\n",
        "#Using stat.variance() built-in function\n",
        "import statistics as stat\n",
        "print(\"\\nVariance with built-in function is : \",stat.variance(infy_data['Close Price']))"
      ],
      "execution_count": null,
      "outputs": [
        {
          "output_type": "stream",
          "text": [
            "Variance without using built-in function is :  621.9921363636355\n",
            "\n",
            "Variance with built-in function is :  621.9921363636355\n"
          ],
          "name": "stdout"
        }
      ]
    },
    {
      "cell_type": "markdown",
      "metadata": {
        "id": "GX3Wt8lKgvHp"
      },
      "source": [
        "Standard Deviation"
      ]
    },
    {
      "cell_type": "code",
      "metadata": {
        "colab": {
          "base_uri": "https://localhost:8080/"
        },
        "id": "w2inzLJAgws0",
        "outputId": "fafe9306-f74e-4586-bf4f-558d8921456c"
      },
      "source": [
        "#calculating standard deviation without using built-in function\n",
        "import math\n",
        "standard_deviation = math.sqrt(variance)\n",
        "print(\"Standard deviation without using built-in function is :\", standard_deviation)\n",
        "\n",
        "\n",
        "#using stat.stdev() built-in function\n",
        "print(\"\\nStandard deviation with built-in function is : \",stat.stdev(infy_data['Close Price']))"
      ],
      "execution_count": null,
      "outputs": [
        {
          "output_type": "stream",
          "text": [
            "Standard deviation without using built-in function is : 24.93977017463544\n",
            "\n",
            "Standard deviation with built-in function is :  24.93977017463544\n"
          ],
          "name": "stdout"
        }
      ]
    },
    {
      "cell_type": "markdown",
      "metadata": {
        "id": "hPoZ0t75k8qR"
      },
      "source": [
        "Standard Error"
      ]
    },
    {
      "cell_type": "code",
      "metadata": {
        "colab": {
          "base_uri": "https://localhost:8080/"
        },
        "id": "Q2L6Nlqek-Qo",
        "outputId": "d73a8126-af63-41ae-df0a-c9135fe62bf2"
      },
      "source": [
        "#Calculating standard error without using built-in function\n",
        "standard_error = standard_deviation/math.sqrt(no_of_items)\n",
        "print(\"Standard error of without using built-in function is : \",standard_error)\n",
        "\n",
        "#using sem() built-in function\n",
        "from scipy.stats import sem\n",
        "print(\"\\nStandard error with built-in function is : \",sem(infy_data['Close Price']))"
      ],
      "execution_count": null,
      "outputs": [
        {
          "output_type": "stream",
          "text": [
            "Standard error of without using built-in function is :  7.519623638814739\n",
            "\n",
            "Standard error with built-in function is :  7.51962363881474\n"
          ],
          "name": "stdout"
        }
      ]
    },
    {
      "cell_type": "markdown",
      "metadata": {
        "id": "Ni0rfvWLc4uh"
      },
      "source": [
        "### **2.\tCalculate Covariance and Correlation between Open Price and Close Price**"
      ]
    },
    {
      "cell_type": "markdown",
      "metadata": {
        "id": "SpVg1YIpcupO"
      },
      "source": [
        "Covariance"
      ]
    },
    {
      "cell_type": "code",
      "metadata": {
        "colab": {
          "base_uri": "https://localhost:8080/"
        },
        "id": "yJPuhkpocs05",
        "outputId": "4dfb3ac5-5aba-46fe-ce2c-1f79c8bcee1b"
      },
      "source": [
        "def covarfn(column1, column2, avg_column1, avg_column2):\n",
        "    covariance = 0\n",
        "  \n",
        "    for i in range(0, len(column1)):\n",
        "        covariance += (column1[i] - avg_column1) * (column2[i] - avg_column2)\n",
        "    return (covariance / (len(column1)-1))\n",
        "  \n",
        "\n",
        "avg_column1 = sum(infy_data[\"Open Price\"])/len(infy_data[\"Open Price\"])  \n",
        "avg_column2 = sum(infy_data[\"Close Price\"])/len(infy_data[\"Close Price\"])\n",
        "\n",
        "#finding covariance using function\n",
        "covariance_manual = covarfn(infy_data[\"Open Price\"],infy_data[\"Close Price\"],avg_column1,avg_column2)\n",
        "\n",
        "#finding coariance using in-built function\n",
        "covariance_inbuilt = infy_data[\"Open Price\"].cov(infy_data[\"Close Price\"])\n",
        "\n",
        "\n",
        "print(\"Covairance between Open Price and Close Price without using built-in function : \", covar)\n",
        "print(\"\\nCovariannce between Open Price and Close Price with built-in function : \", cov)"
      ],
      "execution_count": null,
      "outputs": [
        {
          "output_type": "stream",
          "text": [
            "Covairance between Open Price and Close Price without using built-in function :  610.2477954545457\n",
            "\n",
            "Covariannce between Open Price and Close Price with built-in function :  610.2477954545457\n"
          ],
          "name": "stdout"
        }
      ]
    },
    {
      "cell_type": "markdown",
      "metadata": {
        "id": "IuqQFXLxfq86"
      },
      "source": [
        "Correlation"
      ]
    },
    {
      "cell_type": "code",
      "metadata": {
        "id": "82ChQF5Ec_PS",
        "colab": {
          "base_uri": "https://localhost:8080/"
        },
        "outputId": "84959ae1-e422-4fa6-801f-0f5794c1bb30"
      },
      "source": [
        "import math\n",
        "def correlationCoefficient(col1, col2, n) :\n",
        "    sum_col1 = 0\n",
        "    sum_col2 = 0\n",
        "    sum_both = 0\n",
        "    squareSum_col1 = 0\n",
        "    squareSum_col2 = 0\n",
        "    i = 0\n",
        "    while i < n :\n",
        "        sum_col1 = sum_col1 + col1[i]\n",
        "        sum_col2 = sum_col2 + col2[i]\n",
        "        sum_both = sum_both + col1[i] * col2[i]\n",
        "\n",
        "        squareSum_col1 = squareSum_col1 + col1[i] * col1[i]\n",
        "        squareSum_col2 = squareSum_col2 + col2[i] * col2[i]  \n",
        "        i = i + 1\n",
        "       \n",
        "       #using formula for calculating correlation function\n",
        "    corr = (float)(n * sum_both - sum_col1 * sum_col2)/(float)(math.sqrt((n * squareSum_col1 - sum_col1 * sum_col1)* (n * squareSum_col2 - sum_col2 * sum_col2)))\n",
        "    return corr\n",
        "      \n",
        "\n",
        "column_1 = infy_data[\"Close Price\"]\n",
        "column_2 = infy_data[\"Open Price\"]\n",
        "       \n",
        "n = len(column1)\n",
        "print(\"Correlation between Open Price and Close Price without using built-in function : \",correlationCoefficient(column_1, column_2, n))\n",
        "\n",
        "correlation = column_1.corr(column_2)\n",
        "print(\"\\nCorrelation between Open Price and Close Price with using built-in function : \",correlation)"
      ],
      "execution_count": null,
      "outputs": [
        {
          "output_type": "stream",
          "text": [
            "Correlation between Open Price and Close Price without using built-in function :  0.9296960046418861\n",
            "\n",
            "Correlation between Open Price and Close Price with using built-in function :  0.9296960046419308\n"
          ],
          "name": "stdout"
        }
      ]
    },
    {
      "cell_type": "markdown",
      "metadata": {
        "id": "k5R_4LbAiM4r"
      },
      "source": [
        "### **3. Display graphically the distribution of samples.**"
      ]
    },
    {
      "cell_type": "code",
      "metadata": {
        "colab": {
          "base_uri": "https://localhost:8080/",
          "height": 356
        },
        "id": "UJsymqAciUV3",
        "outputId": "f2eb8b4d-0ab3-4166-a784-dce86712c124"
      },
      "source": [
        "import matplotlib.pyplot as plt\n",
        "import seaborn as sb\n",
        "\n",
        "\n",
        "plt.plot(infy_data[\"Date\"],infy_data[\"Open Price\"],label=\"Open Price\");\n",
        "plt.plot(infy_data[\"Date\"],infy_data[\"Close Price\"],label=\"Close Price\");\n",
        "\n",
        "plt.xticks(rotation = 90)\n",
        "\n",
        "\n",
        "plt.title('Open Price vc Close Price')\n",
        "plt.ylabel('Price ',fontsize=12);\n",
        "plt.xlabel('Date',fontsize=13,labelpad=15);\n",
        "plt.legend()\n",
        "plt.show()"
      ],
      "execution_count": 14,
      "outputs": [
        {
          "output_type": "display_data",
          "data": {
            "image/png": "[encoded data removed]",
            "text/plain": [
              "<Figure size 432x288 with 1 Axes>"
            ]
          },
          "metadata": {
            "needs_background": "light"
          }
        }
      ]
    }
  ]
}