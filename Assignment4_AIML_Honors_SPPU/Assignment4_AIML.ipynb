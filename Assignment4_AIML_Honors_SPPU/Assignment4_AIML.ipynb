{
  "nbformat": 4,
  "nbformat_minor": 0,
  "metadata": {
    "colab": {
      "name": "33359_Assignment4_AIML",
      "provenance": []
    },
    "kernelspec": {
      "name": "python3",
      "display_name": "Python 3"
    },
    "language_info": {
      "name": "python"
    }
  },
  "cells": [
    {
      "cell_type": "markdown",
      "metadata": {
        "id": "toEzCwVAtNfN"
      },
      "source": [
        "# **Assignment 4**"
      ]
    },
    {
      "cell_type": "markdown",
      "metadata": {
        "id": "YU4SLAv03xhD"
      },
      "source": [
        "Problem Statement:\n",
        "Apply Basic PCA on the IRIS dataset\n",
        "Objective\n",
        "1.\tDescribe the data set. Should the dataset be standardized?\n",
        "2.\tDescribe the structure of correlations among variables.\n",
        "3.\tCompute a PCA with the maximum number of components\n",
        "4.\tCompute the cumulative explained variance ratio. \n",
        "5.\tDetermine the number of components 𝐾 by your computed values. \n",
        "6.\tPrint the 𝐾 principal components directions and correlations of the 𝐾 principal components with the original variables. \n",
        "7.\tInterpret the contribution of the original variables into the PC. \n",
        "8.\tPlot the samples projected into the 𝐾 first PCs. \n",
        "9.\tColor samples by their species.\n",
        "\n"
      ]
    },
    {
      "cell_type": "markdown",
      "metadata": {
        "id": "CNypLb8_33gU"
      },
      "source": [
        "### 1.\tDescribe the data set. Should the dataset be standardized?"
      ]
    },
    {
      "cell_type": "markdown",
      "metadata": {
        "id": "Z6IXd6XL35rY"
      },
      "source": [
        "1. The iris dataset contains of 5 variables:\n",
        "\n",
        "\tA. 4 - numerical\n",
        "\n",
        "\tB. 1 - categorical(Nominal)\n",
        "\n",
        "2. There are 150 non-null data points.\n",
        "3. The dataset describes the physical characteristics of iris flower having 3 categories\n",
        "\t\n",
        "\tA. Iris-setosa\n",
        "\n",
        "\tB. Iris-versicolor\n",
        "\t\n",
        "\tC. Iris.virginica\n",
        "\n",
        "4. The ID column is ID's for the data points.\n",
        "5. In order to carry out Principal Component Analysis,the dataset can be standardized where the data has varying units.\n",
        "6. The given iris dataset has its features in same units. \n",
        "\n",
        "So, it need not to be standardized. "
      ]
    },
    {
      "cell_type": "code",
      "metadata": {
        "id": "3ykcA3EDuQOp"
      },
      "source": [
        "import pandas as pd\n",
        "import numpy as np\n",
        "import seaborn as sns\n",
        "import matplotlib.pyplot as plt\n",
        "from sklearn import datasets\n",
        "from sklearn.decomposition import PCA"
      ],
      "execution_count": null,
      "outputs": []
    },
    {
      "cell_type": "code",
      "metadata": {
        "colab": {
          "base_uri": "https://localhost:8080/",
          "height": 417
        },
        "id": "nW_G7Y4f1D9q",
        "outputId": "0bc024ab-2394-4b66-f030-72b5234f4960"
      },
      "source": [
        "iris = pd.read_csv('/content/Iris (1).csv')\n",
        "iris"
      ],
      "execution_count": null,
      "outputs": [
        {
          "output_type": "execute_result",
          "data": {
            "text/html": [
              "<div>\n",
              "<style scoped>\n",
              "    .dataframe tbody tr th:only-of-type {\n",
              "        vertical-align: middle;\n",
              "    }\n",
              "\n",
              "    .dataframe tbody tr th {\n",
              "        vertical-align: top;\n",
              "    }\n",
              "\n",
              "    .dataframe thead th {\n",
              "        text-align: right;\n",
              "    }\n",
              "</style>\n",
              "<table border=\"1\" class=\"dataframe\">\n",
              "  <thead>\n",
              "    <tr style=\"text-align: right;\">\n",
              "      <th></th>\n",
              "      <th>Id</th>\n",
              "      <th>SepalLengthCm</th>\n",
              "      <th>SepalWidthCm</th>\n",
              "      <th>PetalLengthCm</th>\n",
              "      <th>PetalWidthCm</th>\n",
              "      <th>Species</th>\n",
              "    </tr>\n",
              "  </thead>\n",
              "  <tbody>\n",
              "    <tr>\n",
              "      <th>0</th>\n",
              "      <td>1</td>\n",
              "      <td>5.1</td>\n",
              "      <td>3.5</td>\n",
              "      <td>1.4</td>\n",
              "      <td>0.2</td>\n",
              "      <td>Iris-setosa</td>\n",
              "    </tr>\n",
              "    <tr>\n",
              "      <th>1</th>\n",
              "      <td>2</td>\n",
              "      <td>4.9</td>\n",
              "      <td>3.0</td>\n",
              "      <td>1.4</td>\n",
              "      <td>0.2</td>\n",
              "      <td>Iris-setosa</td>\n",
              "    </tr>\n",
              "    <tr>\n",
              "      <th>2</th>\n",
              "      <td>3</td>\n",
              "      <td>4.7</td>\n",
              "      <td>3.2</td>\n",
              "      <td>1.3</td>\n",
              "      <td>0.2</td>\n",
              "      <td>Iris-setosa</td>\n",
              "    </tr>\n",
              "    <tr>\n",
              "      <th>3</th>\n",
              "      <td>4</td>\n",
              "      <td>4.6</td>\n",
              "      <td>3.1</td>\n",
              "      <td>1.5</td>\n",
              "      <td>0.2</td>\n",
              "      <td>Iris-setosa</td>\n",
              "    </tr>\n",
              "    <tr>\n",
              "      <th>4</th>\n",
              "      <td>5</td>\n",
              "      <td>5.0</td>\n",
              "      <td>3.6</td>\n",
              "      <td>1.4</td>\n",
              "      <td>0.2</td>\n",
              "      <td>Iris-setosa</td>\n",
              "    </tr>\n",
              "    <tr>\n",
              "      <th>...</th>\n",
              "      <td>...</td>\n",
              "      <td>...</td>\n",
              "      <td>...</td>\n",
              "      <td>...</td>\n",
              "      <td>...</td>\n",
              "      <td>...</td>\n",
              "    </tr>\n",
              "    <tr>\n",
              "      <th>145</th>\n",
              "      <td>146</td>\n",
              "      <td>6.7</td>\n",
              "      <td>3.0</td>\n",
              "      <td>5.2</td>\n",
              "      <td>2.3</td>\n",
              "      <td>Iris-virginica</td>\n",
              "    </tr>\n",
              "    <tr>\n",
              "      <th>146</th>\n",
              "      <td>147</td>\n",
              "      <td>6.3</td>\n",
              "      <td>2.5</td>\n",
              "      <td>5.0</td>\n",
              "      <td>1.9</td>\n",
              "      <td>Iris-virginica</td>\n",
              "    </tr>\n",
              "    <tr>\n",
              "      <th>147</th>\n",
              "      <td>148</td>\n",
              "      <td>6.5</td>\n",
              "      <td>3.0</td>\n",
              "      <td>5.2</td>\n",
              "      <td>2.0</td>\n",
              "      <td>Iris-virginica</td>\n",
              "    </tr>\n",
              "    <tr>\n",
              "      <th>148</th>\n",
              "      <td>149</td>\n",
              "      <td>6.2</td>\n",
              "      <td>3.4</td>\n",
              "      <td>5.4</td>\n",
              "      <td>2.3</td>\n",
              "      <td>Iris-virginica</td>\n",
              "    </tr>\n",
              "    <tr>\n",
              "      <th>149</th>\n",
              "      <td>150</td>\n",
              "      <td>5.9</td>\n",
              "      <td>3.0</td>\n",
              "      <td>5.1</td>\n",
              "      <td>1.8</td>\n",
              "      <td>Iris-virginica</td>\n",
              "    </tr>\n",
              "  </tbody>\n",
              "</table>\n",
              "<p>150 rows × 6 columns</p>\n",
              "</div>"
            ],
            "text/plain": [
              "      Id  SepalLengthCm  ...  PetalWidthCm         Species\n",
              "0      1            5.1  ...           0.2     Iris-setosa\n",
              "1      2            4.9  ...           0.2     Iris-setosa\n",
              "2      3            4.7  ...           0.2     Iris-setosa\n",
              "3      4            4.6  ...           0.2     Iris-setosa\n",
              "4      5            5.0  ...           0.2     Iris-setosa\n",
              "..   ...            ...  ...           ...             ...\n",
              "145  146            6.7  ...           2.3  Iris-virginica\n",
              "146  147            6.3  ...           1.9  Iris-virginica\n",
              "147  148            6.5  ...           2.0  Iris-virginica\n",
              "148  149            6.2  ...           2.3  Iris-virginica\n",
              "149  150            5.9  ...           1.8  Iris-virginica\n",
              "\n",
              "[150 rows x 6 columns]"
            ]
          },
          "metadata": {},
          "execution_count": 136
        }
      ]
    },
    {
      "cell_type": "code",
      "metadata": {
        "colab": {
          "base_uri": "https://localhost:8080/"
        },
        "id": "LvaC2_m61fBh",
        "outputId": "59c20044-93ca-4125-a3af-e2bc597e7b2e"
      },
      "source": [
        "iris.shape"
      ],
      "execution_count": null,
      "outputs": [
        {
          "output_type": "execute_result",
          "data": {
            "text/plain": [
              "(150, 6)"
            ]
          },
          "metadata": {},
          "execution_count": 137
        }
      ]
    },
    {
      "cell_type": "code",
      "metadata": {
        "colab": {
          "base_uri": "https://localhost:8080/",
          "height": 417
        },
        "id": "xZwDzWdA3OpH",
        "outputId": "6f1c3a6a-2cc7-4b71-d72b-9aad7ba787a1"
      },
      "source": [
        "iris.drop('Id', axis=1, inplace=True)\n",
        "iris"
      ],
      "execution_count": null,
      "outputs": [
        {
          "output_type": "execute_result",
          "data": {
            "text/html": [
              "<div>\n",
              "<style scoped>\n",
              "    .dataframe tbody tr th:only-of-type {\n",
              "        vertical-align: middle;\n",
              "    }\n",
              "\n",
              "    .dataframe tbody tr th {\n",
              "        vertical-align: top;\n",
              "    }\n",
              "\n",
              "    .dataframe thead th {\n",
              "        text-align: right;\n",
              "    }\n",
              "</style>\n",
              "<table border=\"1\" class=\"dataframe\">\n",
              "  <thead>\n",
              "    <tr style=\"text-align: right;\">\n",
              "      <th></th>\n",
              "      <th>SepalLengthCm</th>\n",
              "      <th>SepalWidthCm</th>\n",
              "      <th>PetalLengthCm</th>\n",
              "      <th>PetalWidthCm</th>\n",
              "      <th>Species</th>\n",
              "    </tr>\n",
              "  </thead>\n",
              "  <tbody>\n",
              "    <tr>\n",
              "      <th>0</th>\n",
              "      <td>5.1</td>\n",
              "      <td>3.5</td>\n",
              "      <td>1.4</td>\n",
              "      <td>0.2</td>\n",
              "      <td>Iris-setosa</td>\n",
              "    </tr>\n",
              "    <tr>\n",
              "      <th>1</th>\n",
              "      <td>4.9</td>\n",
              "      <td>3.0</td>\n",
              "      <td>1.4</td>\n",
              "      <td>0.2</td>\n",
              "      <td>Iris-setosa</td>\n",
              "    </tr>\n",
              "    <tr>\n",
              "      <th>2</th>\n",
              "      <td>4.7</td>\n",
              "      <td>3.2</td>\n",
              "      <td>1.3</td>\n",
              "      <td>0.2</td>\n",
              "      <td>Iris-setosa</td>\n",
              "    </tr>\n",
              "    <tr>\n",
              "      <th>3</th>\n",
              "      <td>4.6</td>\n",
              "      <td>3.1</td>\n",
              "      <td>1.5</td>\n",
              "      <td>0.2</td>\n",
              "      <td>Iris-setosa</td>\n",
              "    </tr>\n",
              "    <tr>\n",
              "      <th>4</th>\n",
              "      <td>5.0</td>\n",
              "      <td>3.6</td>\n",
              "      <td>1.4</td>\n",
              "      <td>0.2</td>\n",
              "      <td>Iris-setosa</td>\n",
              "    </tr>\n",
              "    <tr>\n",
              "      <th>...</th>\n",
              "      <td>...</td>\n",
              "      <td>...</td>\n",
              "      <td>...</td>\n",
              "      <td>...</td>\n",
              "      <td>...</td>\n",
              "    </tr>\n",
              "    <tr>\n",
              "      <th>145</th>\n",
              "      <td>6.7</td>\n",
              "      <td>3.0</td>\n",
              "      <td>5.2</td>\n",
              "      <td>2.3</td>\n",
              "      <td>Iris-virginica</td>\n",
              "    </tr>\n",
              "    <tr>\n",
              "      <th>146</th>\n",
              "      <td>6.3</td>\n",
              "      <td>2.5</td>\n",
              "      <td>5.0</td>\n",
              "      <td>1.9</td>\n",
              "      <td>Iris-virginica</td>\n",
              "    </tr>\n",
              "    <tr>\n",
              "      <th>147</th>\n",
              "      <td>6.5</td>\n",
              "      <td>3.0</td>\n",
              "      <td>5.2</td>\n",
              "      <td>2.0</td>\n",
              "      <td>Iris-virginica</td>\n",
              "    </tr>\n",
              "    <tr>\n",
              "      <th>148</th>\n",
              "      <td>6.2</td>\n",
              "      <td>3.4</td>\n",
              "      <td>5.4</td>\n",
              "      <td>2.3</td>\n",
              "      <td>Iris-virginica</td>\n",
              "    </tr>\n",
              "    <tr>\n",
              "      <th>149</th>\n",
              "      <td>5.9</td>\n",
              "      <td>3.0</td>\n",
              "      <td>5.1</td>\n",
              "      <td>1.8</td>\n",
              "      <td>Iris-virginica</td>\n",
              "    </tr>\n",
              "  </tbody>\n",
              "</table>\n",
              "<p>150 rows × 5 columns</p>\n",
              "</div>"
            ],
            "text/plain": [
              "     SepalLengthCm  SepalWidthCm  PetalLengthCm  PetalWidthCm         Species\n",
              "0              5.1           3.5            1.4           0.2     Iris-setosa\n",
              "1              4.9           3.0            1.4           0.2     Iris-setosa\n",
              "2              4.7           3.2            1.3           0.2     Iris-setosa\n",
              "3              4.6           3.1            1.5           0.2     Iris-setosa\n",
              "4              5.0           3.6            1.4           0.2     Iris-setosa\n",
              "..             ...           ...            ...           ...             ...\n",
              "145            6.7           3.0            5.2           2.3  Iris-virginica\n",
              "146            6.3           2.5            5.0           1.9  Iris-virginica\n",
              "147            6.5           3.0            5.2           2.0  Iris-virginica\n",
              "148            6.2           3.4            5.4           2.3  Iris-virginica\n",
              "149            5.9           3.0            5.1           1.8  Iris-virginica\n",
              "\n",
              "[150 rows x 5 columns]"
            ]
          },
          "metadata": {},
          "execution_count": 138
        }
      ]
    },
    {
      "cell_type": "markdown",
      "metadata": {
        "id": "JQ4hEx4dajsT"
      },
      "source": [
        "### 2.\tDescribe the structure of correlations among variables."
      ]
    },
    {
      "cell_type": "code",
      "metadata": {
        "colab": {
          "base_uri": "https://localhost:8080/",
          "height": 338
        },
        "id": "NQ66jF7G1t3c",
        "outputId": "17f165f9-94da-4ba5-d8ba-ea52854b6489"
      },
      "source": [
        "var=iris.corr()\n",
        "sns.heatmap(var, xticklabels = var.columns, yticklabels = var.columns, annot=True, center=0, vmin=-1, vmax=1, fmt=\".1g\", cmap='coolwarm');\n",
        "plt.show()"
      ],
      "execution_count": null,
      "outputs": [
        {
          "output_type": "display_data",
          "data": {
            "image/png": "[encoded data removed]",
            "text/plain": [
              "<Figure size 432x288 with 2 Axes>"
            ]
          },
          "metadata": {
            "needs_background": "light"
          }
        }
      ]
    },
    {
      "cell_type": "code",
      "metadata": {
        "colab": {
          "base_uri": "https://localhost:8080/",
          "height": 608
        },
        "id": "1A5fGbpIlVmf",
        "outputId": "c6a9afd7-2856-43d4-cba6-8024df3eb50a"
      },
      "source": [
        "iris.hist(figsize=(10,10),bins = 15)\n",
        "plt.title(\"Features Distribution\")\n",
        "plt.show()"
      ],
      "execution_count": null,
      "outputs": [
        {
          "output_type": "display_data",
          "data": {
            "image/png": "[encoded data removed]",
            "text/plain": [
              "<Figure size 720x720 with 4 Axes>"
            ]
          },
          "metadata": {
            "needs_background": "light"
          }
        }
      ]
    },
    {
      "cell_type": "markdown",
      "metadata": {
        "id": "QYHVsnNc3vSV"
      },
      "source": [
        "### 3.\tCompute a PCA with the maximum number of components."
      ]
    },
    {
      "cell_type": "code",
      "metadata": {
        "colab": {
          "base_uri": "https://localhost:8080/"
        },
        "id": "tqoZh1vXXoh8",
        "outputId": "50ad92da-66b0-4712-c22f-7d5eec60bbc7"
      },
      "source": [
        "iris1 = datasets.load_iris()\n",
        "#iris\n",
        "\n",
        "x=iris1.data\n",
        "print(iris.shape)\n",
        "y = iris1.target\n",
        "print(y.shape)"
      ],
      "execution_count": null,
      "outputs": [
        {
          "output_type": "stream",
          "name": "stdout",
          "text": [
            "(150, 5)\n",
            "(150,)\n"
          ]
        }
      ]
    },
    {
      "cell_type": "code",
      "metadata": {
        "colab": {
          "base_uri": "https://localhost:8080/"
        },
        "id": "OB9d_0qJZJG2",
        "outputId": "578b93e6-3243-4248-fae5-50b0a6d7ac04"
      },
      "source": [
        "pca = PCA(n_components = 4)\n",
        "\n",
        "principal_components = pca.fit(x)\n",
        "\n",
        "eigenvalues = pca.components_\n",
        "eigenvalues"
      ],
      "execution_count": null,
      "outputs": [
        {
          "output_type": "execute_result",
          "data": {
            "text/plain": [
              "array([[ 0.36138659, -0.08452251,  0.85667061,  0.3582892 ],\n",
              "       [ 0.65658877,  0.73016143, -0.17337266, -0.07548102],\n",
              "       [-0.58202985,  0.59791083,  0.07623608,  0.54583143],\n",
              "       [-0.31548719,  0.3197231 ,  0.47983899, -0.75365743]])"
            ]
          },
          "metadata": {},
          "execution_count": 142
        }
      ]
    },
    {
      "cell_type": "code",
      "metadata": {
        "colab": {
          "base_uri": "https://localhost:8080/"
        },
        "id": "NlIoPX98Zba6",
        "outputId": "bd757fc6-8fbc-4223-be8a-afc69c934243"
      },
      "source": [
        "Z = pca.transform(x)\n",
        "\n",
        "Z.shape"
      ],
      "execution_count": null,
      "outputs": [
        {
          "output_type": "execute_result",
          "data": {
            "text/plain": [
              "(150, 4)"
            ]
          },
          "metadata": {},
          "execution_count": 143
        }
      ]
    },
    {
      "cell_type": "code",
      "metadata": {
        "colab": {
          "base_uri": "https://localhost:8080/",
          "height": 269
        },
        "id": "b5XKLKgkZhtK",
        "outputId": "2dda7954-89e8-4858-ff48-2ddced271463"
      },
      "source": [
        "import matplotlib.pyplot as plt\n",
        "plt.scatter(Z[:,0], Z[:,1]);"
      ],
      "execution_count": null,
      "outputs": [
        {
          "output_type": "display_data",
          "data": {
            "image/png": "[encoded data removed]",
            "text/plain": [
              "<Figure size 432x288 with 1 Axes>"
            ]
          },
          "metadata": {
            "needs_background": "light"
          }
        }
      ]
    },
    {
      "cell_type": "code",
      "metadata": {
        "colab": {
          "base_uri": "https://localhost:8080/",
          "height": 269
        },
        "id": "Eq4ZKzRDZ8FR",
        "outputId": "04d2e03d-9fff-415e-a6ac-797f7d511927"
      },
      "source": [
        "#Plotting scatter plot for PCA\n",
        "\n",
        "plt.scatter(Z[:,0], Z[:,1], c=y);"
      ],
      "execution_count": null,
      "outputs": [
        {
          "output_type": "display_data",
          "data": {
            "image/png": "[encoded data removed]",
            "text/plain": [
              "<Figure size 432x288 with 1 Axes>"
            ]
          },
          "metadata": {
            "needs_background": "light"
          }
        }
      ]
    },
    {
      "cell_type": "markdown",
      "metadata": {
        "id": "_c5ZsgRYasRA"
      },
      "source": [
        "### 4.\tCompute the cumulative explained variance ratio. "
      ]
    },
    {
      "cell_type": "code",
      "metadata": {
        "colab": {
          "base_uri": "https://localhost:8080/"
        },
        "id": "y8zja5V6awh0",
        "outputId": "fa9c6815-7eab-4daf-f307-c95fd34a17c8"
      },
      "source": [
        "print(\"Explained Variance is : \",pca.explained_variance_)\n",
        "\n",
        "variance_explained = pca.explained_variance_ratio_\n",
        "print(\"\\nExplained Variance ratio is : \",variance_explained)"
      ],
      "execution_count": null,
      "outputs": [
        {
          "output_type": "stream",
          "name": "stdout",
          "text": [
            "Explained Variance is :  [4.22824171 0.24267075 0.0782095  0.02383509]\n",
            "\n",
            "Explained Variance ratio is :  [0.92461872 0.05306648 0.01710261 0.00521218]\n"
          ]
        }
      ]
    },
    {
      "cell_type": "markdown",
      "metadata": {
        "id": "KlCuANM2dIKF"
      },
      "source": [
        "### 5.\tDetermine the number of components 𝐾 by your computed values. "
      ]
    },
    {
      "cell_type": "code",
      "metadata": {
        "colab": {
          "base_uri": "https://localhost:8080/"
        },
        "id": "N2jTd0rJdEjl",
        "outputId": "282f3bc8-caaf-4e3f-ceb1-2aa94ce9f4ff"
      },
      "source": [
        "# Identifying components that explain at least 95%\n",
        "cumulative_variance_explained = np.cumsum(variance_explained)\n",
        "print(\"Cumulative variance explained is : \",cumulative_variance_explained)"
      ],
      "execution_count": null,
      "outputs": [
        {
          "output_type": "stream",
          "name": "stdout",
          "text": [
            "Cumulative variance explained is :  [0.92461872 0.97768521 0.99478782 1.        ]\n"
          ]
        }
      ]
    },
    {
      "cell_type": "code",
      "metadata": {
        "colab": {
          "base_uri": "https://localhost:8080/",
          "height": 297
        },
        "id": "UPCI1mMbuAVM",
        "outputId": "9d0fc575-9b60-4912-c8c9-9ea5b672182a"
      },
      "source": [
        "plt.figure(figsize=(6, 4))\n",
        "plt.bar(range(4), variance_explained, alpha=0.5, align='center',label='individual explained variance')\n",
        "plt.step(range(4), cumulative_variance_explained, where='mid',label='cumulative explained variance')\n",
        "plt.ylabel('Explained variance ratio')\n",
        "plt.xlabel('Principal components')\n",
        "plt.legend(loc='center right')\n",
        "plt.tight_layout()"
      ],
      "execution_count": null,
      "outputs": [
        {
          "output_type": "display_data",
          "data": {
            "image/png": "[encoded data removed]",
            "text/plain": [
              "<Figure size 432x288 with 1 Axes>"
            ]
          },
          "metadata": {
            "needs_background": "light"
          }
        }
      ]
    },
    {
      "cell_type": "markdown",
      "metadata": {
        "id": "3ZARei94fAni"
      },
      "source": [
        "### 6.\tPrint the 𝐾 principal components directions and correlations of the 𝐾 principal components with the original variables. "
      ]
    },
    {
      "cell_type": "code",
      "metadata": {
        "id": "yEQv2G7Zk64D"
      },
      "source": [
        "principal_Df = pd.DataFrame(data = Z, columns = ['PC1', 'PC2','PC3','PC4'])"
      ],
      "execution_count": null,
      "outputs": []
    },
    {
      "cell_type": "code",
      "metadata": {
        "colab": {
          "base_uri": "https://localhost:8080/",
          "height": 417
        },
        "id": "b6UhUZtEoBP7",
        "outputId": "bb1353c1-8416-4100-ad74-30117f35cbc4"
      },
      "source": [
        "principal_Df"
      ],
      "execution_count": null,
      "outputs": [
        {
          "output_type": "execute_result",
          "data": {
            "text/html": [
              "<div>\n",
              "<style scoped>\n",
              "    .dataframe tbody tr th:only-of-type {\n",
              "        vertical-align: middle;\n",
              "    }\n",
              "\n",
              "    .dataframe tbody tr th {\n",
              "        vertical-align: top;\n",
              "    }\n",
              "\n",
              "    .dataframe thead th {\n",
              "        text-align: right;\n",
              "    }\n",
              "</style>\n",
              "<table border=\"1\" class=\"dataframe\">\n",
              "  <thead>\n",
              "    <tr style=\"text-align: right;\">\n",
              "      <th></th>\n",
              "      <th>PC1</th>\n",
              "      <th>PC2</th>\n",
              "      <th>PC3</th>\n",
              "      <th>PC4</th>\n",
              "    </tr>\n",
              "  </thead>\n",
              "  <tbody>\n",
              "    <tr>\n",
              "      <th>0</th>\n",
              "      <td>-2.684126</td>\n",
              "      <td>0.319397</td>\n",
              "      <td>-0.027915</td>\n",
              "      <td>-0.002262</td>\n",
              "    </tr>\n",
              "    <tr>\n",
              "      <th>1</th>\n",
              "      <td>-2.714142</td>\n",
              "      <td>-0.177001</td>\n",
              "      <td>-0.210464</td>\n",
              "      <td>-0.099027</td>\n",
              "    </tr>\n",
              "    <tr>\n",
              "      <th>2</th>\n",
              "      <td>-2.888991</td>\n",
              "      <td>-0.144949</td>\n",
              "      <td>0.017900</td>\n",
              "      <td>-0.019968</td>\n",
              "    </tr>\n",
              "    <tr>\n",
              "      <th>3</th>\n",
              "      <td>-2.745343</td>\n",
              "      <td>-0.318299</td>\n",
              "      <td>0.031559</td>\n",
              "      <td>0.075576</td>\n",
              "    </tr>\n",
              "    <tr>\n",
              "      <th>4</th>\n",
              "      <td>-2.728717</td>\n",
              "      <td>0.326755</td>\n",
              "      <td>0.090079</td>\n",
              "      <td>0.061259</td>\n",
              "    </tr>\n",
              "    <tr>\n",
              "      <th>...</th>\n",
              "      <td>...</td>\n",
              "      <td>...</td>\n",
              "      <td>...</td>\n",
              "      <td>...</td>\n",
              "    </tr>\n",
              "    <tr>\n",
              "      <th>145</th>\n",
              "      <td>1.944110</td>\n",
              "      <td>0.187532</td>\n",
              "      <td>0.177825</td>\n",
              "      <td>-0.426196</td>\n",
              "    </tr>\n",
              "    <tr>\n",
              "      <th>146</th>\n",
              "      <td>1.527167</td>\n",
              "      <td>-0.375317</td>\n",
              "      <td>-0.121898</td>\n",
              "      <td>-0.254367</td>\n",
              "    </tr>\n",
              "    <tr>\n",
              "      <th>147</th>\n",
              "      <td>1.764346</td>\n",
              "      <td>0.078859</td>\n",
              "      <td>0.130482</td>\n",
              "      <td>-0.137001</td>\n",
              "    </tr>\n",
              "    <tr>\n",
              "      <th>148</th>\n",
              "      <td>1.900942</td>\n",
              "      <td>0.116628</td>\n",
              "      <td>0.723252</td>\n",
              "      <td>-0.044595</td>\n",
              "    </tr>\n",
              "    <tr>\n",
              "      <th>149</th>\n",
              "      <td>1.390189</td>\n",
              "      <td>-0.282661</td>\n",
              "      <td>0.362910</td>\n",
              "      <td>0.155039</td>\n",
              "    </tr>\n",
              "  </tbody>\n",
              "</table>\n",
              "<p>150 rows × 4 columns</p>\n",
              "</div>"
            ],
            "text/plain": [
              "          PC1       PC2       PC3       PC4\n",
              "0   -2.684126  0.319397 -0.027915 -0.002262\n",
              "1   -2.714142 -0.177001 -0.210464 -0.099027\n",
              "2   -2.888991 -0.144949  0.017900 -0.019968\n",
              "3   -2.745343 -0.318299  0.031559  0.075576\n",
              "4   -2.728717  0.326755  0.090079  0.061259\n",
              "..        ...       ...       ...       ...\n",
              "145  1.944110  0.187532  0.177825 -0.426196\n",
              "146  1.527167 -0.375317 -0.121898 -0.254367\n",
              "147  1.764346  0.078859  0.130482 -0.137001\n",
              "148  1.900942  0.116628  0.723252 -0.044595\n",
              "149  1.390189 -0.282661  0.362910  0.155039\n",
              "\n",
              "[150 rows x 4 columns]"
            ]
          },
          "metadata": {},
          "execution_count": 150
        }
      ]
    },
    {
      "cell_type": "code",
      "metadata": {
        "colab": {
          "base_uri": "https://localhost:8080/",
          "height": 172
        },
        "id": "F06Jfn9RvvHp",
        "outputId": "ba8c0c7c-4fc8-4fcd-cede-3431b4853e4a"
      },
      "source": [
        "#Corelation of principal components with original variables\n",
        "compare_Df = pd.DataFrame(data = eigenvalues, columns = ['PC1', 'PC2','PC3','PC4'])\n",
        "compare_Df.insert(0,\"Variable\",['SepalLengthCm','SepalWidthCm','PetalLengthCm', 'PetalWidthCm'], True)\n",
        "\n",
        "compare_Df"
      ],
      "execution_count": null,
      "outputs": [
        {
          "output_type": "execute_result",
          "data": {
            "text/html": [
              "<div>\n",
              "<style scoped>\n",
              "    .dataframe tbody tr th:only-of-type {\n",
              "        vertical-align: middle;\n",
              "    }\n",
              "\n",
              "    .dataframe tbody tr th {\n",
              "        vertical-align: top;\n",
              "    }\n",
              "\n",
              "    .dataframe thead th {\n",
              "        text-align: right;\n",
              "    }\n",
              "</style>\n",
              "<table border=\"1\" class=\"dataframe\">\n",
              "  <thead>\n",
              "    <tr style=\"text-align: right;\">\n",
              "      <th></th>\n",
              "      <th>Variable</th>\n",
              "      <th>PC1</th>\n",
              "      <th>PC2</th>\n",
              "      <th>PC3</th>\n",
              "      <th>PC4</th>\n",
              "    </tr>\n",
              "  </thead>\n",
              "  <tbody>\n",
              "    <tr>\n",
              "      <th>0</th>\n",
              "      <td>SepalLengthCm</td>\n",
              "      <td>0.361387</td>\n",
              "      <td>-0.084523</td>\n",
              "      <td>0.856671</td>\n",
              "      <td>0.358289</td>\n",
              "    </tr>\n",
              "    <tr>\n",
              "      <th>1</th>\n",
              "      <td>SepalWidthCm</td>\n",
              "      <td>0.656589</td>\n",
              "      <td>0.730161</td>\n",
              "      <td>-0.173373</td>\n",
              "      <td>-0.075481</td>\n",
              "    </tr>\n",
              "    <tr>\n",
              "      <th>2</th>\n",
              "      <td>PetalLengthCm</td>\n",
              "      <td>-0.582030</td>\n",
              "      <td>0.597911</td>\n",
              "      <td>0.076236</td>\n",
              "      <td>0.545831</td>\n",
              "    </tr>\n",
              "    <tr>\n",
              "      <th>3</th>\n",
              "      <td>PetalWidthCm</td>\n",
              "      <td>-0.315487</td>\n",
              "      <td>0.319723</td>\n",
              "      <td>0.479839</td>\n",
              "      <td>-0.753657</td>\n",
              "    </tr>\n",
              "  </tbody>\n",
              "</table>\n",
              "</div>"
            ],
            "text/plain": [
              "        Variable       PC1       PC2       PC3       PC4\n",
              "0  SepalLengthCm  0.361387 -0.084523  0.856671  0.358289\n",
              "1   SepalWidthCm  0.656589  0.730161 -0.173373 -0.075481\n",
              "2  PetalLengthCm -0.582030  0.597911  0.076236  0.545831\n",
              "3   PetalWidthCm -0.315487  0.319723  0.479839 -0.753657"
            ]
          },
          "metadata": {},
          "execution_count": 151
        }
      ]
    },
    {
      "cell_type": "markdown",
      "metadata": {
        "id": "11Ypsywbo0vy"
      },
      "source": [
        "### 7.\tInterpret the contribution of the original variables into the PC. "
      ]
    },
    {
      "cell_type": "code",
      "metadata": {
        "colab": {
          "base_uri": "https://localhost:8080/"
        },
        "id": "gxzx7BLzw6Xw",
        "outputId": "3698d26f-c5c5-4a29-c53b-8b9997ae1561"
      },
      "source": [
        "#Contribution of variables to PC1\n",
        "\n",
        "PC1=abs(eigenvalues[0,:])\n",
        "PC1.sort(axis=0)\n",
        "PC1=PC1[::-1]\n",
        "PC1=PC1[0:4]\n",
        "PC1"
      ],
      "execution_count": null,
      "outputs": [
        {
          "output_type": "execute_result",
          "data": {
            "text/plain": [
              "array([0.85667061, 0.36138659, 0.3582892 , 0.08452251])"
            ]
          },
          "metadata": {},
          "execution_count": 152
        }
      ]
    },
    {
      "cell_type": "code",
      "metadata": {
        "colab": {
          "base_uri": "https://localhost:8080/",
          "height": 281
        },
        "id": "citsmCIhw_eh",
        "outputId": "bb306ffb-b14d-490b-ac1a-4f1b2ef3d56d"
      },
      "source": [
        "plt.bar(range(4), PC1, alpha=0.3, align='center')\n",
        "plt.title('Contributions of variables to PC1');"
      ],
      "execution_count": null,
      "outputs": [
        {
          "output_type": "display_data",
          "data": {
            "image/png": "[encoded data removed]",
            "text/plain": [
              "<Figure size 432x288 with 1 Axes>"
            ]
          },
          "metadata": {
            "needs_background": "light"
          }
        }
      ]
    },
    {
      "cell_type": "code",
      "metadata": {
        "id": "g8zG5xpWo5iG",
        "colab": {
          "base_uri": "https://localhost:8080/"
        },
        "outputId": "61e38db4-54eb-4691-8801-d07c813efeda"
      },
      "source": [
        "#Contribution of variables to PC1\n",
        "\n",
        "PC2=abs(eigenvalues[1,:])\n",
        "PC2.sort(axis=0)\n",
        "PC2=PC2[::-1]\n",
        "PC2=PC2[0:4]\n",
        "PC2"
      ],
      "execution_count": null,
      "outputs": [
        {
          "output_type": "execute_result",
          "data": {
            "text/plain": [
              "array([0.73016143, 0.65658877, 0.17337266, 0.07548102])"
            ]
          },
          "metadata": {},
          "execution_count": 154
        }
      ]
    },
    {
      "cell_type": "code",
      "metadata": {
        "colab": {
          "base_uri": "https://localhost:8080/",
          "height": 281
        },
        "id": "IU7ID-9NcHJ6",
        "outputId": "8e2d7903-c85e-4bf6-a1cd-a6fae1d2bf6b"
      },
      "source": [
        "plt.bar(range(4), PC2, alpha=0.3, align='center')\n",
        "plt.title('Contributions of variables to PC2');"
      ],
      "execution_count": null,
      "outputs": [
        {
          "output_type": "display_data",
          "data": {
            "image/png": "[encoded data removed]",
            "text/plain": [
              "<Figure size 432x288 with 1 Axes>"
            ]
          },
          "metadata": {
            "needs_background": "light"
          }
        }
      ]
    },
    {
      "cell_type": "code",
      "metadata": {
        "colab": {
          "base_uri": "https://localhost:8080/"
        },
        "id": "fPHYePm7cUAB",
        "outputId": "110c561e-8d46-49f1-fb3e-9a55c6095df5"
      },
      "source": [
        "#Contribution of variables to PC3\n",
        "\n",
        "PC3=abs(eigenvalues[2,:])\n",
        "PC3.sort(axis=0)\n",
        "PC3=PC3[::-1]\n",
        "PC3=PC3[0:4]\n",
        "PC3"
      ],
      "execution_count": null,
      "outputs": [
        {
          "output_type": "execute_result",
          "data": {
            "text/plain": [
              "array([0.59791083, 0.58202985, 0.54583143, 0.07623608])"
            ]
          },
          "metadata": {},
          "execution_count": 156
        }
      ]
    },
    {
      "cell_type": "code",
      "metadata": {
        "colab": {
          "base_uri": "https://localhost:8080/",
          "height": 281
        },
        "id": "jKbMaUVJce_Z",
        "outputId": "8482fd52-5067-4b74-c159-2670bacf7fca"
      },
      "source": [
        "plt.bar(range(4), PC3, alpha=0.3, align='center')\n",
        "plt.title('Contributions of variables to PC3');"
      ],
      "execution_count": null,
      "outputs": [
        {
          "output_type": "display_data",
          "data": {
            "image/png": "[encoded data removed]",
            "text/plain": [
              "<Figure size 432x288 with 1 Axes>"
            ]
          },
          "metadata": {
            "needs_background": "light"
          }
        }
      ]
    },
    {
      "cell_type": "code",
      "metadata": {
        "colab": {
          "base_uri": "https://localhost:8080/"
        },
        "id": "sK-1GOYvd304",
        "outputId": "c958d11b-c9bd-4b74-fb1e-8f64a9a6c471"
      },
      "source": [
        "#Contribution of variables to PC4\n",
        "\n",
        "PC4=abs(eigenvalues[3,:])\n",
        "PC4.sort(axis=0)\n",
        "PC4=PC4[::-1]\n",
        "PC4=PC4[0:4]\n",
        "PC4"
      ],
      "execution_count": null,
      "outputs": [
        {
          "output_type": "execute_result",
          "data": {
            "text/plain": [
              "array([0.75365743, 0.47983899, 0.3197231 , 0.31548719])"
            ]
          },
          "metadata": {},
          "execution_count": 158
        }
      ]
    },
    {
      "cell_type": "code",
      "metadata": {
        "colab": {
          "base_uri": "https://localhost:8080/",
          "height": 281
        },
        "id": "9L5GkDo3d_kp",
        "outputId": "dedead79-8b1e-45f3-80d0-42e1c62a9ded"
      },
      "source": [
        "plt.bar(range(4), PC4, alpha=0.3, align='center')\n",
        "plt.title('Contributions of variables to PC3');"
      ],
      "execution_count": null,
      "outputs": [
        {
          "output_type": "display_data",
          "data": {
            "image/png": "[encoded data removed]",
            "text/plain": [
              "<Figure size 432x288 with 1 Axes>"
            ]
          },
          "metadata": {
            "needs_background": "light"
          }
        }
      ]
    },
    {
      "cell_type": "markdown",
      "metadata": {
        "id": "zfU0jjQqpUoP"
      },
      "source": [
        "### 8.\tPlot the samples projected into the 𝐾 first PCs. "
      ]
    },
    {
      "cell_type": "code",
      "metadata": {
        "id": "C4uPdw5OP2Pn"
      },
      "source": [
        "y = iris.iloc[:,4].values"
      ],
      "execution_count": null,
      "outputs": []
    },
    {
      "cell_type": "code",
      "metadata": {
        "id": "6GR2DTNFpqwm",
        "colab": {
          "base_uri": "https://localhost:8080/",
          "height": 297
        },
        "outputId": "90868a11-bd9a-4d14-88c5-99cde8fbd4f9"
      },
      "source": [
        "Y = X_std.dot(matrix_w)\n",
        "\n",
        "with plt.style.context('seaborn-whitegrid'):\n",
        "    plt.figure(figsize=(6, 4))\n",
        "    for lab,col in zip(('Iris-setosa', 'Iris-versicolor', 'Iris-virginica'),('blue','blue','blue')):\n",
        "        plt.scatter(Y[y==lab, 0],\n",
        "                    Y[y==lab, 1],\n",
        "                    label=lab,c=col)\n",
        "    plt.xlabel('Principal Component 1')\n",
        "    plt.ylabel('Principal Component 2')\n",
        "    plt.tight_layout()\n",
        "    plt.show()"
      ],
      "execution_count": null,
      "outputs": [
        {
          "output_type": "display_data",
          "data": {
            "image/png": "[encoded data removed]",
            "text/plain": [
              "<Figure size 432x288 with 1 Axes>"
            ]
          },
          "metadata": {}
        }
      ]
    },
    {
      "cell_type": "markdown",
      "metadata": {
        "id": "LnpzJCt7prMw"
      },
      "source": [
        "### 9.\tColor samples by their species."
      ]
    },
    {
      "cell_type": "code",
      "metadata": {
        "colab": {
          "base_uri": "https://localhost:8080/",
          "height": 297
        },
        "id": "Flc7BuXIpu--",
        "outputId": "d7d0114b-e26a-4c66-b5da-3ed5787bb3f2"
      },
      "source": [
        "with plt.style.context('seaborn-whitegrid'):\n",
        "    plt.figure(figsize=(6, 4))\n",
        "    for lab,col in zip(('Iris-setosa', 'Iris-versicolor', 'Iris-virginica'),('blue','red','green')):\n",
        "        plt.scatter(Y[y==lab, 0],\n",
        "                    Y[y==lab, 1],\n",
        "                    label=lab,c=col)\n",
        "    plt.xlabel('Principal Component 1')\n",
        "    plt.ylabel('Principal Component 2')\n",
        "    plt.tight_layout()\n",
        "    plt.legend(loc='lower center')\n",
        "    plt.show()"
      ],
      "execution_count": null,
      "outputs": [
        {
          "output_type": "display_data",
          "data": {
            "image/png": "[encoded data removed]",
            "text/plain": [
              "<Figure size 432x288 with 1 Axes>"
            ]
          },
          "metadata": {}
        }
      ]
    },
    {
      "cell_type": "markdown",
      "metadata": {
        "id": "gC0t83CDorAH"
      },
      "source": [
        "Reference :\n",
        "\n",
        "https://sebastianraschka.com/Articles/2015_pca_in_3_steps.html"
      ]
    }
  ]
}