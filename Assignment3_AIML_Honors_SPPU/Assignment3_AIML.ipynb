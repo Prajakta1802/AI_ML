{
  "nbformat": 4,
  "nbformat_minor": 0,
  "metadata": {
    "colab": {
      "name": "33359_Assignment3_AIML",
      "provenance": []
    },
    "kernelspec": {
      "name": "python3",
      "display_name": "Python 3"
    },
    "language_info": {
      "name": "python"
    }
  },
  "cells": [
    {
      "cell_type": "markdown",
      "metadata": {
        "id": "DcifX0wFhcQQ"
      },
      "source": [
        "## •\tLoad the dataset: birthwt Risk Factors Associated with Low Infant Birth Weight\n",
        "\n"
      ]
    },
    {
      "cell_type": "code",
      "metadata": {
        "id": "3W3AULmxLqeb"
      },
      "source": [
        "import pandas as pd\n",
        "import numpy as np\n",
        "from sklearn.linear_model import LinearRegression\n",
        "import matplotlib.pyplot as plt\n",
        "from sklearn.metrics import mean_squared_error, r2_score"
      ],
      "execution_count": null,
      "outputs": []
    },
    {
      "cell_type": "code",
      "metadata": {
        "colab": {
          "base_uri": "https://localhost:8080/",
          "height": 417
        },
        "id": "OvKPBgO7MPyy",
        "outputId": "805243b1-d49d-4315-f480-9b02cc3c3976"
      },
      "source": [
        "bwt_df = pd.read_csv('/content/Bwt.csv',index_col=0)\n",
        "bwt_df"
      ],
      "execution_count": null,
      "outputs": [
        {
          "output_type": "execute_result",
          "data": {
            "text/html": [
              "<div>\n",
              "<style scoped>\n",
              "    .dataframe tbody tr th:only-of-type {\n",
              "        vertical-align: middle;\n",
              "    }\n",
              "\n",
              "    .dataframe tbody tr th {\n",
              "        vertical-align: top;\n",
              "    }\n",
              "\n",
              "    .dataframe thead th {\n",
              "        text-align: right;\n",
              "    }\n",
              "</style>\n",
              "<table border=\"1\" class=\"dataframe\">\n",
              "  <thead>\n",
              "    <tr style=\"text-align: right;\">\n",
              "      <th></th>\n",
              "      <th>bwt</th>\n",
              "      <th>gestation</th>\n",
              "      <th>parity</th>\n",
              "      <th>age</th>\n",
              "      <th>height</th>\n",
              "      <th>weight</th>\n",
              "      <th>smoke</th>\n",
              "    </tr>\n",
              "  </thead>\n",
              "  <tbody>\n",
              "    <tr>\n",
              "      <th>1</th>\n",
              "      <td>120</td>\n",
              "      <td>284</td>\n",
              "      <td>0</td>\n",
              "      <td>27</td>\n",
              "      <td>62</td>\n",
              "      <td>100</td>\n",
              "      <td>0</td>\n",
              "    </tr>\n",
              "    <tr>\n",
              "      <th>2</th>\n",
              "      <td>113</td>\n",
              "      <td>282</td>\n",
              "      <td>0</td>\n",
              "      <td>33</td>\n",
              "      <td>64</td>\n",
              "      <td>135</td>\n",
              "      <td>0</td>\n",
              "    </tr>\n",
              "    <tr>\n",
              "      <th>3</th>\n",
              "      <td>128</td>\n",
              "      <td>279</td>\n",
              "      <td>0</td>\n",
              "      <td>28</td>\n",
              "      <td>64</td>\n",
              "      <td>115</td>\n",
              "      <td>1</td>\n",
              "    </tr>\n",
              "    <tr>\n",
              "      <th>4</th>\n",
              "      <td>108</td>\n",
              "      <td>282</td>\n",
              "      <td>0</td>\n",
              "      <td>23</td>\n",
              "      <td>67</td>\n",
              "      <td>125</td>\n",
              "      <td>1</td>\n",
              "    </tr>\n",
              "    <tr>\n",
              "      <th>5</th>\n",
              "      <td>136</td>\n",
              "      <td>286</td>\n",
              "      <td>0</td>\n",
              "      <td>25</td>\n",
              "      <td>62</td>\n",
              "      <td>93</td>\n",
              "      <td>0</td>\n",
              "    </tr>\n",
              "    <tr>\n",
              "      <th>...</th>\n",
              "      <td>...</td>\n",
              "      <td>...</td>\n",
              "      <td>...</td>\n",
              "      <td>...</td>\n",
              "      <td>...</td>\n",
              "      <td>...</td>\n",
              "      <td>...</td>\n",
              "    </tr>\n",
              "    <tr>\n",
              "      <th>1170</th>\n",
              "      <td>113</td>\n",
              "      <td>275</td>\n",
              "      <td>1</td>\n",
              "      <td>27</td>\n",
              "      <td>60</td>\n",
              "      <td>100</td>\n",
              "      <td>0</td>\n",
              "    </tr>\n",
              "    <tr>\n",
              "      <th>1171</th>\n",
              "      <td>128</td>\n",
              "      <td>265</td>\n",
              "      <td>0</td>\n",
              "      <td>24</td>\n",
              "      <td>67</td>\n",
              "      <td>120</td>\n",
              "      <td>0</td>\n",
              "    </tr>\n",
              "    <tr>\n",
              "      <th>1172</th>\n",
              "      <td>130</td>\n",
              "      <td>291</td>\n",
              "      <td>0</td>\n",
              "      <td>30</td>\n",
              "      <td>65</td>\n",
              "      <td>150</td>\n",
              "      <td>1</td>\n",
              "    </tr>\n",
              "    <tr>\n",
              "      <th>1173</th>\n",
              "      <td>125</td>\n",
              "      <td>281</td>\n",
              "      <td>1</td>\n",
              "      <td>21</td>\n",
              "      <td>65</td>\n",
              "      <td>110</td>\n",
              "      <td>0</td>\n",
              "    </tr>\n",
              "    <tr>\n",
              "      <th>1174</th>\n",
              "      <td>117</td>\n",
              "      <td>297</td>\n",
              "      <td>0</td>\n",
              "      <td>38</td>\n",
              "      <td>65</td>\n",
              "      <td>129</td>\n",
              "      <td>0</td>\n",
              "    </tr>\n",
              "  </tbody>\n",
              "</table>\n",
              "<p>1174 rows × 7 columns</p>\n",
              "</div>"
            ],
            "text/plain": [
              "      bwt  gestation  parity  age  height  weight  smoke\n",
              "1     120        284       0   27      62     100      0\n",
              "2     113        282       0   33      64     135      0\n",
              "3     128        279       0   28      64     115      1\n",
              "4     108        282       0   23      67     125      1\n",
              "5     136        286       0   25      62      93      0\n",
              "...   ...        ...     ...  ...     ...     ...    ...\n",
              "1170  113        275       1   27      60     100      0\n",
              "1171  128        265       0   24      67     120      0\n",
              "1172  130        291       0   30      65     150      1\n",
              "1173  125        281       1   21      65     110      0\n",
              "1174  117        297       0   38      65     129      0\n",
              "\n",
              "[1174 rows x 7 columns]"
            ]
          },
          "metadata": {},
          "execution_count": 84
        }
      ]
    },
    {
      "cell_type": "markdown",
      "metadata": {
        "id": "B1xHBDe-gmrs"
      },
      "source": [
        "#### 1.Test the association of mother’s (age) age and baby’s birth weight (bwt) using the correlation test and linear regression. \n",
        "\n",
        "#### 2.\tTest the association of mother’s weight (weight) and birth weight (bwt) using the correlation test and linear regression. \n",
        "\n",
        "\n",
        "#### 3.Produce two scatter plots of: \n",
        "\n",
        "##### (i)\tmother’s age by baby’s birth weight; \n",
        "\n",
        "##### (ii)\tmother’s weight by baby’s birth weight."
      ]
    },
    {
      "cell_type": "markdown",
      "metadata": {
        "id": "WVfEJ2xVj-sk"
      },
      "source": [
        "1.Testing the association of mother’s (age) age and baby’s birth weight (bwt) using the correlation test and linear regression and producing scatter plot of it."
      ]
    },
    {
      "cell_type": "code",
      "metadata": {
        "colab": {
          "base_uri": "https://localhost:8080/"
        },
        "id": "Dj5bkgsIM_ZV",
        "outputId": "05291f45-c47d-456c-8fb2-073114b0e33d"
      },
      "source": [
        "#Finding correlation coefficient between Mother's age and Baby's birth weight\n",
        "\n",
        "column_1 = bwt_df[\"age\"]\n",
        "column_2 = bwt_df[\"bwt\"]\n",
        "correlation = column_1.corr(column_2)\n",
        "\n",
        "print(\"Correlation between Mother's Age and Baby's birth weight :\",correlation)"
      ],
      "execution_count": null,
      "outputs": [
        {
          "output_type": "stream",
          "name": "stdout",
          "text": [
            "Correlation between Mother's Age and Baby's birth weight : 0.026982911002929492\n"
          ]
        }
      ]
    },
    {
      "cell_type": "code",
      "metadata": {
        "colab": {
          "base_uri": "https://localhost:8080/"
        },
        "id": "xNolD-T1OlVk",
        "outputId": "d8ebc959-3099-4caf-c51d-ad2d71702534"
      },
      "source": [
        "#Finding Regression Coefficicent\n",
        "\n",
        "column_1 = bwt_df.age.values\n",
        "column_2 = bwt_df.bwt.values\n",
        "\n",
        "length = len(column_1)\n",
        "\n",
        "column_1 = column_1.reshape(length, 1)\n",
        "column_2 = column_2.reshape(length, 1)\n",
        "\n",
        "regr = LinearRegression()\n",
        "regr.fit(column_1, column_2)\n",
        "\n",
        "coeficient = regr.coef_[0][0]\n",
        "print(\"Regression Coefficient : \",coeficient)\n",
        "print(\"Intercept : \",regr.intercept_[0])\n",
        "print('Coefficient of determination(r2 score): %.2f'% r2_score(column_1, column_2))"
      ],
      "execution_count": null,
      "outputs": [
        {
          "output_type": "stream",
          "name": "stdout",
          "text": [
            "Regression Coefficient :  0.08500766941582519\n",
            "Intercept :  117.14790872185156\n",
            "Coefficient of determination(r2 score): -261.31\n"
          ]
        }
      ]
    },
    {
      "cell_type": "code",
      "metadata": {
        "colab": {
          "base_uri": "https://localhost:8080/",
          "height": 295
        },
        "id": "nQV3NnuIkVkl",
        "outputId": "29300fef-b77f-420e-bb47-8373a35e755e"
      },
      "source": [
        "#Plotting scatter for Mother's Age vs Baby's birth weight\n",
        "\n",
        "plt.scatter(column_1, column_2, color='black')\n",
        "plt.plot(column_1, regr.predict(column_1), color='blue',linewidth=3)\n",
        "\n",
        "plt.xlabel(\"Age\")\n",
        "plt.ylabel(\"Birth Weight\")\n",
        "plt.title(\"Mother's Age vs Baby's birth weight\")\n",
        "plt.show()"
      ],
      "execution_count": null,
      "outputs": [
        {
          "output_type": "display_data",
          "data": {
            "image/png": "[encoded data removed]",
            "text/plain": [
              "<Figure size 432x288 with 1 Axes>"
            ]
          },
          "metadata": {
            "needs_background": "light"
          }
        }
      ]
    },
    {
      "cell_type": "markdown",
      "metadata": {
        "id": "8aZDP3ZAlHEx"
      },
      "source": [
        "## **Conclusion :**\n",
        "\n",
        "From the plot we can see almost flat regression line this means baby's weight is almost not related to age of mother."
      ]
    },
    {
      "cell_type": "markdown",
      "metadata": {
        "id": "DktMPxD-kin1"
      },
      "source": [
        "2.Test the association of mother’s weight (weight) and birth weight (bwt) using the correlation test and linear regression and producing it's scatter plot."
      ]
    },
    {
      "cell_type": "code",
      "metadata": {
        "colab": {
          "base_uri": "https://localhost:8080/"
        },
        "id": "hV6dFComRB9r",
        "outputId": "3dd77af3-61c3-4c5e-9b55-79abe14ec27e"
      },
      "source": [
        "#Finding correlation coefficient between Mother's weight and Baby's birth weight\n",
        "\n",
        "column_3 = bwt_df[\"weight\"]\n",
        "column_4 = bwt_df[\"bwt\"]\n",
        "correlation = column_3.corr(column_4)\n",
        "\n",
        "print(\"Mother's weight and baby's birth weight is correlated with each other :\",correlation)"
      ],
      "execution_count": null,
      "outputs": [
        {
          "output_type": "stream",
          "name": "stdout",
          "text": [
            "Mother's weight and baby's birth weight is correlated with each other : 0.15592327018706933\n"
          ]
        }
      ]
    },
    {
      "cell_type": "code",
      "metadata": {
        "colab": {
          "base_uri": "https://localhost:8080/"
        },
        "id": "zQL96ZJlRK7K",
        "outputId": "7a83d51b-abd4-4e2d-e21d-74da5326d36a"
      },
      "source": [
        "#Finding Regression Coefficicent\n",
        "\n",
        "column_3 = bwt_df.weight.values\n",
        "column_4 = bwt_df.bwt.values\n",
        "\n",
        "length = len(column_1)\n",
        "\n",
        "\n",
        "column_3 = column_3.reshape(length, 1)\n",
        "column_4 = column_4.reshape(length, 1)\n",
        "\n",
        "regr = LinearRegression()\n",
        "regr.fit(column_3, column_4)\n",
        "\n",
        "coeficient = regr.coef_[0][0]\n",
        "print(\"Regression Coefficient : \",coeficient)\n",
        "print(\"Intercept : \",regr.intercept_[0])\n",
        "\n",
        "print('Coefficient of determination(r2 score): %.2f'% r2_score(column_3, column_4))"
      ],
      "execution_count": null,
      "outputs": [
        {
          "output_type": "stream",
          "name": "stdout",
          "text": [
            "Regression Coefficient :  0.13783290697470632\n",
            "Intercept :  101.75392786147968\n",
            "Coefficient of determination(r2 score): -0.70\n"
          ]
        }
      ]
    },
    {
      "cell_type": "code",
      "metadata": {
        "colab": {
          "base_uri": "https://localhost:8080/",
          "height": 295
        },
        "id": "8gmYNgqlZKJ_",
        "outputId": "69d6e971-31ad-43f5-c742-80dcc0bc1a5a"
      },
      "source": [
        "#Plotting scatter for Mother's Weight vs Baby's birth weight\n",
        "\n",
        "plt.scatter(column_3, column_4, color='red')\n",
        "plt.plot(column_3, regr.predict(column_3), color='blue', linewidth=3)\n",
        "plt.xlabel(\"Mother's Weight\")\n",
        "plt.ylabel(\"Baby's Birth Weight\")\n",
        "plt.title(\"Mother's Weight vs Baby's birth weight (in ounces)\")\n",
        "plt.show()"
      ],
      "execution_count": null,
      "outputs": [
        {
          "output_type": "display_data",
          "data": {
            "image/png": "[encoded data removed]",
            "text/plain": [
              "<Figure size 432x288 with 1 Axes>"
            ]
          },
          "metadata": {
            "needs_background": "light"
          }
        }
      ]
    },
    {
      "cell_type": "markdown",
      "metadata": {
        "id": "_hNwvY7jlyVB"
      },
      "source": [
        "## **Conclusion :**\n",
        "\n",
        "From the plot we can see a non-linear regression as it is following pattern but not in a linear manner. We can say that Mother's weight is slightly correlated with Baby's birth weight."
      ]
    }
  ]
}